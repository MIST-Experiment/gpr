{
 "cells": [
  {
   "cell_type": "code",
   "execution_count": 9,
   "id": "0aa688b7-32f5-40ab-b793-0b9caef0a2c5",
   "metadata": {},
   "outputs": [],
   "source": [
    "import numpy as np\n",
    "import matplotlib.pyplot as plt\n"
   ]
  },
  {
   "cell_type": "code",
   "execution_count": 10,
   "id": "304641da-dd85-4c7c-afcc-b2b34db21eaa",
   "metadata": {},
   "outputs": [
    {
     "name": "stderr",
     "output_type": "stream",
     "text": [
      "[INFO] [UHD] linux; GNU C++ version 12.3.0; Boost_108200; UHD_4.6.0.HEAD-release\n"
     ]
    },
    {
     "ename": "RuntimeError",
     "evalue": "LookupError: KeyError: No devices found for ----->\nDevice Address:\n    type: b200\n",
     "output_type": "error",
     "traceback": [
      "\u001b[0;31m---------------------------------------------------------------------------\u001b[0m",
      "\u001b[0;31mRuntimeError\u001b[0m                              Traceback (most recent call last)",
      "Cell \u001b[0;32mIn[10], line 4\u001b[0m\n\u001b[1;32m      1\u001b[0m \u001b[38;5;28;01mimport\u001b[39;00m \u001b[38;5;21;01muhd\u001b[39;00m\n\u001b[1;32m      2\u001b[0m \u001b[38;5;28;01mimport\u001b[39;00m \u001b[38;5;21;01mnumpy\u001b[39;00m \u001b[38;5;28;01mas\u001b[39;00m \u001b[38;5;21;01mnp\u001b[39;00m\n\u001b[0;32m----> 4\u001b[0m usrp \u001b[38;5;241m=\u001b[39m \u001b[43muhd\u001b[49m\u001b[38;5;241;43m.\u001b[39;49m\u001b[43musrp\u001b[49m\u001b[38;5;241;43m.\u001b[39;49m\u001b[43mMultiUSRP\u001b[49m\u001b[43m(\u001b[49m\u001b[38;5;124;43m\"\u001b[39;49m\u001b[38;5;124;43mtype=b200\u001b[39;49m\u001b[38;5;124;43m\"\u001b[39;49m\u001b[43m)\u001b[49m\n\u001b[1;32m      5\u001b[0m stream_args \u001b[38;5;241m=\u001b[39m uhd\u001b[38;5;241m.\u001b[39musrp\u001b[38;5;241m.\u001b[39mStreamArgs(\u001b[38;5;124m\"\u001b[39m\u001b[38;5;124mfc32\u001b[39m\u001b[38;5;124m\"\u001b[39m, \u001b[38;5;124m\"\u001b[39m\u001b[38;5;124msc16\u001b[39m\u001b[38;5;124m\"\u001b[39m)\n\u001b[1;32m      6\u001b[0m stream_args\u001b[38;5;241m.\u001b[39margs \u001b[38;5;241m=\u001b[39m \u001b[38;5;124m\"\u001b[39m\u001b[38;5;124mspp=200\u001b[39m\u001b[38;5;124m\"\u001b[39m \u001b[38;5;66;03m# Note this setting is not valid for all USRPs\u001b[39;00m\n",
      "File \u001b[0;32m~/miniconda3/envs/uhd_env/lib/python3.12/site-packages/uhd/usrp/multi_usrp.py:30\u001b[0m, in \u001b[0;36mMultiUSRP.__init__\u001b[0;34m(self, args)\u001b[0m\n\u001b[1;32m     28\u001b[0m \u001b[38;5;28;01mdef\u001b[39;00m \u001b[38;5;21m__init__\u001b[39m(\u001b[38;5;28mself\u001b[39m, args\u001b[38;5;241m=\u001b[39m\u001b[38;5;124m\"\u001b[39m\u001b[38;5;124m\"\u001b[39m):\n\u001b[1;32m     29\u001b[0m \u001b[38;5;250m    \u001b[39m\u001b[38;5;124;03m\"\"\"MultiUSRP constructor\"\"\"\u001b[39;00m\n\u001b[0;32m---> 30\u001b[0m     \u001b[38;5;28;43msuper\u001b[39;49m\u001b[43m(\u001b[49m\u001b[43mMultiUSRP\u001b[49m\u001b[43m,\u001b[49m\u001b[43m \u001b[49m\u001b[38;5;28;43mself\u001b[39;49m\u001b[43m)\u001b[49m\u001b[38;5;241;43m.\u001b[39;49m\u001b[38;5;21;43m__init__\u001b[39;49m\u001b[43m(\u001b[49m\u001b[43margs\u001b[49m\u001b[43m)\u001b[49m\n\u001b[1;32m     31\u001b[0m     \u001b[38;5;66;03m# If we're on an MPM device, dynamically add this method to access the\u001b[39;00m\n\u001b[1;32m     32\u001b[0m     \u001b[38;5;66;03m# MPM client\u001b[39;00m\n\u001b[1;32m     33\u001b[0m     \u001b[38;5;28;01mif\u001b[39;00m \u001b[38;5;28mself\u001b[39m\u001b[38;5;241m.\u001b[39mget_tree()\u001b[38;5;241m.\u001b[39mexists(\u001b[38;5;124m\"\u001b[39m\u001b[38;5;124m/mboards/0/token\u001b[39m\u001b[38;5;124m\"\u001b[39m):\n",
      "\u001b[0;31mRuntimeError\u001b[0m: LookupError: KeyError: No devices found for ----->\nDevice Address:\n    type: b200\n"
     ]
    }
   ],
   "source": [
    "import uhd\n",
    "import numpy as np\n",
    "\n",
    "usrp = uhd.usrp.MultiUSRP(\"type=b200\")\n",
    "stream_args = uhd.usrp.StreamArgs(\"fc32\", \"sc16\")\n",
    "stream_args.args = \"spp=200\" # Note this setting is not valid for all USRPs\n",
    "\n",
    "#Creating streamer and metadata\n",
    "rx_streamer = usrp.get_rx_stream(stream_args)\n",
    "rx_metadata = uhd.types.RXMetadata()\n",
    "\n",
    "#Creating receive buffer\n",
    "recv_buffer = np.zeros(rx_streamer.get_max_num_samps(), dtype=np.complex64)\n",
    "\n",
    "#Creating the stream commands\n",
    "stream_cmd = uhd.types.StreamCMD(uhd.types.StreamMode.start_cont)\n",
    "stream_cmd.stream_now = True\n",
    "\n",
    "rx_streamer.issue_stream_cmd(stream_cmd)\n",
    "\n",
    "samps = rx_streamer.recv(recv_buffer, rx_metadata)\n",
    "    \n",
    "stream_cmd = uhd.types.StreamCMD(uhd.types.StreamMode.stop_cont)\n",
    "rx_streamer.issue_stream_cmd(stream_cmd)"
   ]
  },
  {
   "cell_type": "code",
   "execution_count": 8,
   "id": "c1b4daeb-6df1-4f5c-9b11-087fa35b6de9",
   "metadata": {
    "scrolled": true
   },
   "outputs": [
    {
     "data": {
      "text/plain": [
       "[<matplotlib.lines.Line2D at 0x7f8d8fd22e40>]"
      ]
     },
     "execution_count": 8,
     "metadata": {},
     "output_type": "execute_result"
    },
    {
     "data": {
      "image/png": "[encoded data removed]",
      "text/plain": [
       "<Figure size 640x480 with 1 Axes>"
      ]
     },
     "metadata": {},
     "output_type": "display_data"
    }
   ],
   "source": [
    "tx_streamer = usrp.get_tx_stream(stream_args)\n",
    "tx_metadata = uhd.types.TXMetadata()\n",
    "tx_buffer = np.zeros(1000000, dtype=np.complex64)\n",
    "while True:\n",
    "    \n",
    "    samps = tx_streamer.send(tx_buffer, tx_metadata)"
   ]
  },
  {
   "cell_type": "code",
   "execution_count": null,
   "id": "914db38e-8716-454d-b5dd-b7acdc4197ae",
   "metadata": {},
   "outputs": [],
   "source": []
  }
 ],
 "metadata": {
  "kernelspec": {
   "display_name": "Python 3 (ipykernel)",
   "language": "python",
   "name": "python3"
  },
  "language_info": {
   "codemirror_mode": {
    "name": "ipython",
    "version": 3
   },
   "file_extension": ".py",
   "mimetype": "text/x-python",
   "name": "python",
   "nbconvert_exporter": "python",
   "pygments_lexer": "ipython3",
   "version": "3.12.0"
  }
 },
 "nbformat": 4,
 "nbformat_minor": 5
}

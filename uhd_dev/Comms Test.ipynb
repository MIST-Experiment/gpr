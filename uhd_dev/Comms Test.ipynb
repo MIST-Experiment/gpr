{
 "cells": [
  {
   "cell_type": "code",
   "execution_count": 2,
   "id": "d776cd06-b6d7-4edd-991c-7d428da8c1ac",
   "metadata": {},
   "outputs": [
    {
     "name": "stderr",
     "output_type": "stream",
     "text": [
      "[INFO] [UHD] linux; GNU C++ version 12.3.0; Boost_108200; UHD_4.6.0.HEAD-release\n"
     ]
    },
    {
     "ename": "RuntimeError",
     "evalue": "LookupError: KeyError: No devices found for ----->\nDevice Address:\n    type: b200\n",
     "output_type": "error",
     "traceback": [
      "\u001b[0;31m---------------------------------------------------------------------------\u001b[0m",
      "\u001b[0;31mRuntimeError\u001b[0m                              Traceback (most recent call last)",
      "Cell \u001b[0;32mIn[2], line 5\u001b[0m\n\u001b[1;32m      1\u001b[0m \u001b[38;5;28;01mimport\u001b[39;00m \u001b[38;5;21;01muhd\u001b[39;00m\n\u001b[1;32m      4\u001b[0m \u001b[38;5;124;03m\"\"\"RX samples and write to file\"\"\"\u001b[39;00m\n\u001b[0;32m----> 5\u001b[0m usrp \u001b[38;5;241m=\u001b[39m \u001b[43muhd\u001b[49m\u001b[38;5;241;43m.\u001b[39;49m\u001b[43musrp\u001b[49m\u001b[38;5;241;43m.\u001b[39;49m\u001b[43mMultiUSRP\u001b[49m\u001b[43m(\u001b[49m\u001b[38;5;124;43m\"\u001b[39;49m\u001b[38;5;124;43mtype=b200\u001b[39;49m\u001b[38;5;124;43m\"\u001b[39;49m\u001b[43m)\u001b[49m\n\u001b[1;32m      6\u001b[0m num_samps \u001b[38;5;241m=\u001b[39m \u001b[38;5;241m1e6\u001b[39m\n\u001b[1;32m      7\u001b[0m \u001b[38;5;28;01mif\u001b[39;00m \u001b[38;5;129;01mnot\u001b[39;00m \u001b[38;5;28misinstance\u001b[39m(args\u001b[38;5;241m.\u001b[39mchannels, \u001b[38;5;28mlist\u001b[39m):\n",
      "File \u001b[0;32m~/miniconda3/envs/uhd_env/lib/python3.12/site-packages/uhd/usrp/multi_usrp.py:30\u001b[0m, in \u001b[0;36mMultiUSRP.__init__\u001b[0;34m(self, args)\u001b[0m\n\u001b[1;32m     28\u001b[0m \u001b[38;5;28;01mdef\u001b[39;00m \u001b[38;5;21m__init__\u001b[39m(\u001b[38;5;28mself\u001b[39m, args\u001b[38;5;241m=\u001b[39m\u001b[38;5;124m\"\u001b[39m\u001b[38;5;124m\"\u001b[39m):\n\u001b[1;32m     29\u001b[0m \u001b[38;5;250m    \u001b[39m\u001b[38;5;124;03m\"\"\"MultiUSRP constructor\"\"\"\u001b[39;00m\n\u001b[0;32m---> 30\u001b[0m     \u001b[38;5;28;43msuper\u001b[39;49m\u001b[43m(\u001b[49m\u001b[43mMultiUSRP\u001b[49m\u001b[43m,\u001b[49m\u001b[43m \u001b[49m\u001b[38;5;28;43mself\u001b[39;49m\u001b[43m)\u001b[49m\u001b[38;5;241;43m.\u001b[39;49m\u001b[38;5;21;43m__init__\u001b[39;49m\u001b[43m(\u001b[49m\u001b[43margs\u001b[49m\u001b[43m)\u001b[49m\n\u001b[1;32m     31\u001b[0m     \u001b[38;5;66;03m# If we're on an MPM device, dynamically add this method to access the\u001b[39;00m\n\u001b[1;32m     32\u001b[0m     \u001b[38;5;66;03m# MPM client\u001b[39;00m\n\u001b[1;32m     33\u001b[0m     \u001b[38;5;28;01mif\u001b[39;00m \u001b[38;5;28mself\u001b[39m\u001b[38;5;241m.\u001b[39mget_tree()\u001b[38;5;241m.\u001b[39mexists(\u001b[38;5;124m\"\u001b[39m\u001b[38;5;124m/mboards/0/token\u001b[39m\u001b[38;5;124m\"\u001b[39m):\n",
      "\u001b[0;31mRuntimeError\u001b[0m: LookupError: KeyError: No devices found for ----->\nDevice Address:\n    type: b200\n"
     ]
    }
   ],
   "source": [
    "import uhd\n",
    "\n",
    "\n",
    "\"\"\"RX samples and write to file\"\"\"\n",
    "usrp = uhd.usrp.MultiUSRP(\"type=b200\")\n",
    "num_samps = 1e6\n",
    "if not isinstance(args.channels, list):\n",
    "    args.channels = [args.channels]\n",
    "samps = usrp.recv_num_samps(\n",
    "    1e6, # Number of samples\n",
    "    2.4e9, # Frequency in Hz\n",
    "    1e6, # Sampling rate\n",
    "    [0], # Receive on channel 0\n",
    "    80, # 80 dB of RX gain\n",
    ")\n",
    "samps.tofile('samples.dat')"
   ]
  },
  {
   "cell_type": "code",
   "execution_count": null,
   "id": "209373ae-6bf0-4c45-8494-20023474fdc0",
   "metadata": {},
   "outputs": [],
   "source": []
  }
 ],
 "metadata": {
  "kernelspec": {
   "display_name": "Python 3 (ipykernel)",
   "language": "python",
   "name": "python3"
  },
  "language_info": {
   "codemirror_mode": {
    "name": "ipython",
    "version": 3
   },
   "file_extension": ".py",
   "mimetype": "text/x-python",
   "name": "python",
   "nbconvert_exporter": "python",
   "pygments_lexer": "ipython3",
   "version": "3.12.0"
  }
 },
 "nbformat": 4,
 "nbformat_minor": 5
}

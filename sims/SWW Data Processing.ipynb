{
 "cells": [
  {
   "cell_type": "code",
   "execution_count": 1,
   "id": "235b1643-fd54-4803-b199-8d81ce090e99",
   "metadata": {},
   "outputs": [],
   "source": [
    "import numpy as np\n",
    "import scipy\n",
    "import matplotlib.pyplot as plt\n",
    "import matplotlib\n",
    "import scipy.signal.windows as windows\n",
    "\n",
    "from scipy.fft import fft, fftshift, ifft, ifftshift, fftfreq\n",
    "from scipy.constants import c, pi\n",
    "\n",
    "matplotlib.style.use('bmh')"
   ]
  },
  {
   "cell_type": "code",
   "execution_count": 2,
   "id": "84b7d75f-88d4-41b1-9837-770618483fc6",
   "metadata": {},
   "outputs": [
    {
     "ename": "FileNotFoundError",
     "evalue": "[Errno 2] No such file or directory: 'rx_buffer_2_300_310_1_run_1.npy'",
     "output_type": "error",
     "traceback": [
      "\u001b[0;31m---------------------------------------------------------------------------\u001b[0m",
      "\u001b[0;31mFileNotFoundError\u001b[0m                         Traceback (most recent call last)",
      "Cell \u001b[0;32mIn[2], line 1\u001b[0m\n\u001b[0;32m----> 1\u001b[0m rx_buffer1 \u001b[38;5;241m=\u001b[39m \u001b[43mnp\u001b[49m\u001b[38;5;241;43m.\u001b[39;49m\u001b[43mload\u001b[49m\u001b[43m(\u001b[49m\u001b[38;5;124;43m\"\u001b[39;49m\u001b[38;5;124;43mrx_buffer_2_300_310_1_run_1.npy\u001b[39;49m\u001b[38;5;124;43m\"\u001b[39;49m\u001b[43m)\u001b[49m\n\u001b[1;32m      2\u001b[0m rx_buffer2 \u001b[38;5;241m=\u001b[39m np\u001b[38;5;241m.\u001b[39mload(\u001b[38;5;124m\"\u001b[39m\u001b[38;5;124mrx_buffer_2_300_310_1_run_1.npy\u001b[39m\u001b[38;5;124m\"\u001b[39m)\n",
      "File \u001b[0;32m~/miniconda3/envs/env1/lib/python3.12/site-packages/numpy/lib/npyio.py:427\u001b[0m, in \u001b[0;36mload\u001b[0;34m(file, mmap_mode, allow_pickle, fix_imports, encoding, max_header_size)\u001b[0m\n\u001b[1;32m    425\u001b[0m     own_fid \u001b[38;5;241m=\u001b[39m \u001b[38;5;28;01mFalse\u001b[39;00m\n\u001b[1;32m    426\u001b[0m \u001b[38;5;28;01melse\u001b[39;00m:\n\u001b[0;32m--> 427\u001b[0m     fid \u001b[38;5;241m=\u001b[39m stack\u001b[38;5;241m.\u001b[39menter_context(\u001b[38;5;28;43mopen\u001b[39;49m\u001b[43m(\u001b[49m\u001b[43mos_fspath\u001b[49m\u001b[43m(\u001b[49m\u001b[43mfile\u001b[49m\u001b[43m)\u001b[49m\u001b[43m,\u001b[49m\u001b[43m \u001b[49m\u001b[38;5;124;43m\"\u001b[39;49m\u001b[38;5;124;43mrb\u001b[39;49m\u001b[38;5;124;43m\"\u001b[39;49m\u001b[43m)\u001b[49m)\n\u001b[1;32m    428\u001b[0m     own_fid \u001b[38;5;241m=\u001b[39m \u001b[38;5;28;01mTrue\u001b[39;00m\n\u001b[1;32m    430\u001b[0m \u001b[38;5;66;03m# Code to distinguish from NumPy binary files and pickles.\u001b[39;00m\n",
      "\u001b[0;31mFileNotFoundError\u001b[0m: [Errno 2] No such file or directory: 'rx_buffer_2_300_310_1_run_1.npy'"
     ]
    }
   ],
   "source": [
    "rx_buffer1 = np.load(\"rx_buffer_2_300_310_1_run_1.npy\")\n",
    "rx_buffer2 = np.load(\"rx_buffer_2_300_310_1_run_1.npy\")"
   ]
  },
  {
   "cell_type": "code",
   "execution_count": null,
   "id": "35ba9a22-bd0e-4560-a42f-453fdc3e4caf",
   "metadata": {},
   "outputs": [],
   "source": [
    "fs = 2e6\n",
    "LOs = np.unique(rx_buffer1[:,1])\n",
    "nsp = len(LOs)\n",
    "N = min(rx_buffer1[rx_buffer1[:, 1] == LOs[i], 0].shape[0] for i in range(nsp))\n",
    "N2 = int(N/2)\n",
    "Nf = N*nsp\n",
    "W = windows.tukey(N)"
   ]
  },
  {
   "cell_type": "code",
   "execution_count": null,
   "id": "782b5ab3-32b0-488e-9b4e-ae65dd2b614d",
   "metadata": {},
   "outputs": [],
   "source": [
    "dft_stack = np.zeros(Nf*2, dtype = np.complex128)\n",
    "\n",
    "for i in range(nsp):\n",
    "\n",
    "    # Initializing reference waveform\n",
    "    ref_chirp = rx_buffer1[rx_buffer1[:,1]==LOs[i], 0][0:N]\n",
    "    rx_chirp = rx_buffer2[rx_buffer1[:,1]==LOs[i], 0][0:N]\n",
    "\n",
    "    # FFTs and FFTshift to center at 0Hz\n",
    "    ref_dft = fftshift(fft(ref_chirp*W))\n",
    "    rx_dft = fftshift(fft(rx_chirp*W))\n",
    "\n",
    "    freqs = fftshift(fftfreq(N, 1/fs)) #Frequency range\n",
    "\n",
    "    mf_dft = ref_dft * np.conjugate(rx_dft)\n",
    "\n",
    "    #Seperate matched filter into real and imaginary components\n",
    "    dft_real = mf_dft[:N2]\n",
    "    dft_imag = mf_dft[N2:]\n",
    "    \n",
    "    #Sufficiently pad each side\n",
    "    dft_real_pad = np.pad(dft_real, (Nf, Nf-N2), mode = 'constant', constant_values = (0,0))\n",
    "    dft_imag_pad = np.pad(dft_imag, (Nf-N2, Nf), mode = 'constant', constant_values = (0,0))\n",
    "    \n",
    "    #Perform a circular shift corresponding to the frequency spacing between broadband pulses\n",
    "    dft_real_shift = np.roll(dft_real_pad, int(i*len(mf_dft)/2))\n",
    "    dft_imag_shift = np.roll(dft_imag_pad, -int(i*len(mf_dft)/2))\n",
    "    \n",
    "    #Add to the stack array and repeat\n",
    "    dft_stack += dft_real_shift\n",
    "    dft_stack += dft_imag_shift"
   ]
  },
  {
   "cell_type": "code",
   "execution_count": null,
   "id": "f041d2dc-0e4c-4b73-b582-465f9c2d837e",
   "metadata": {},
   "outputs": [],
   "source": [
    "mag_stack = 20*np.log10(np.abs(dft_stack/np.max(dft_stack))**2)\n",
    "\n",
    "#N2 = int(N/2)\n",
    "#freqs_stack = np.linspace(-Bi*nsp, Bi*nsp, num=len(mag_stack))\n",
    "\n",
    "f, ax = plt.subplots(figsize = (10,8))\n",
    "\n",
    "ax.plot(mag_stack)\n",
    "\n",
    "#ax.set_xlabel(\"Frequency (Hz)\")\n",
    "ax.set_ylabel(\"Magnitude (dB)\")\n",
    "\n",
    "ax.set_title(\"Reconstructed SWW\")\n",
    "\n",
    "plt.show()\n",
    "\n",
    "sww = ifftshift(ifft(dft_stack)) #Ifft\n",
    "\n",
    "f, ax = plt.subplots(figsize = (10,8))\n",
    "\n",
    "ax.plot(sww)\n",
    "#ax.set_xlabel(\"Time (s)\")\n",
    "ax.set_ylabel(\"Amplitude\")\n",
    "ax.set_title(\"Ideal SWW output\")\n",
    "\n",
    "plt.show()\n",
    "\n",
    "p = 20*np.log10(np.abs(sww))\n",
    "\n",
    "f, ax = plt.subplots(figsize = (10,8))\n",
    "\n",
    "ax.plot(p)\n",
    "#ax.set_xlabel(\"Time (s)\")\n",
    "ax.set_ylabel(\"Power\")\n",
    "ax.set_title(\"Ideal SWW output\")\n",
    "\n",
    "plt.show()\n",
    "\n",
    "plt.plot(np.abs(sww))\n",
    "plt.show()\n",
    "\n",
    "plt.plot(np.abs(sww))\n",
    "plt.xlim(4.51625e6,4.51675e6)\n",
    "plt.show()\n",
    "\n",
    "plt.plot(p)\n",
    "plt.show()\n",
    "\n",
    "plt.plot(p)\n",
    "plt.xlim(4.51625e6,4.51675e6)\n",
    "plt.show()"
   ]
  },
  {
   "cell_type": "code",
   "execution_count": null,
   "id": "47667c89-3f21-404b-978f-61eb4f244948",
   "metadata": {},
   "outputs": [],
   "source": []
  }
 ],
 "metadata": {
  "kernelspec": {
   "display_name": "Python 3 (ipykernel)",
   "language": "python",
   "name": "python3"
  },
  "language_info": {
   "codemirror_mode": {
    "name": "ipython",
    "version": 3
   },
   "file_extension": ".py",
   "mimetype": "text/x-python",
   "name": "python",
   "nbconvert_exporter": "python",
   "pygments_lexer": "ipython3",
   "version": "3.12.0"
  }
 },
 "nbformat": 4,
 "nbformat_minor": 5
}
